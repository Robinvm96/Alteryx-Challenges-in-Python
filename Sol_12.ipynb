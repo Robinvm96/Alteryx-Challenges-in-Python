{
 "cells": [
  {
   "cell_type": "code",
   "execution_count": 1,
   "metadata": {},
   "outputs": [],
   "source": [
    "\"\"\" Task: An HR department wants to use Alteryx to quickly understand the reporting structure for employees across the organization. \n",
    "\n",
    "The Input source contains 5 employees and an identifier that uniquely identifies the individual and the manager they report to. \n",
    "\n",
    "The goal is to create a hierarchy field identifying each relationship between employee and manager(s). \n",
    "For example, a Director reports directly to the Vice President which is 1 level up. \n",
    "The Director is then 2 levels away from the CEO (in this data set). As a result the hierarchy identifier represents how many levels removed the employee is from management team they report into.\"\"\""
   ]
  },
  {
   "cell_type": "code",
   "execution_count": null,
   "metadata": {},
   "outputs": [],
   "source": [
    "import pandas as pd\n",
    "\n",
    "# Create Dictionary - The Human Resources Data\n",
    "HR_data = {\n",
    "    'employee': ['Analyst', 'Manager', 'Director', 'Vice President', 'CEO'],\n",
    "    'id': [3, 2, 1, 4, 5],\n",
    "    'man_id': [2, 1, 4, 5,None]\n",
    "}\n",
    "\n",
    "# Convert DataType - HR_data - Dictionary: -> DataFrame\n",
    "df = pd.DataFrame(HR_data)\n",
    "\n",
    "# Adjust column - df \"man_id\" - Float -> Integer --- Comment = Since man_id has Null-Values, we replace them with -1, because -1 is not appearing in the id column\n",
    "df['man_id'] = df['man_id'].fillna(-1)\n",
    "df['man_id']=df['man_id'].astype(int)\n"
   ]
  },
  {
   "cell_type": "code",
   "execution_count": 19,
   "metadata": {},
   "outputs": [
    {
     "name": "stdout",
     "output_type": "stream",
     "text": [
      "         Employee         Manager  Hierarchy\n",
      "0         Analyst         Manager          1\n",
      "1         Analyst        Director          2\n",
      "2         Analyst  Vice President          3\n",
      "3         Analyst             CEO          4\n",
      "4         Manager        Director          1\n",
      "5         Manager  Vice President          2\n",
      "6         Manager             CEO          3\n",
      "7        Director  Vice President          1\n",
      "8        Director             CEO          2\n",
      "9  Vice President             CEO          1\n"
     ]
    }
   ],
   "source": [
    "# Create DataFrame - result - Purpose:An empty DataFrame for storing the end result\n",
    "result =pd.DataFrame()\n",
    "\n",
    "# Loop through every Row\n",
    "for i,r in df.iterrows():\n",
    "        # Create Value - hierarchy - Purpose:Counts how many levels are between the employee and the manager\n",
    "        hierarchy = 0\n",
    "\n",
    "        # Convert DataType - r - Series -> DataFrame --- Comment: We also restructure it, so it will be joinable\n",
    "        r= r.to_frame().T\n",
    "        \n",
    "        \"\"\"Idea: Join the man_id of the row with the id of the original DataFrame. \n",
    "        Then we get the Role of the immediately manager and the man_id. \n",
    "        Then we join the new man_id again with the original DataFrame and get the 2-Level-Up-Manager. \n",
    "        We repeat it through the while Loop until it can not find a manager again.\"\"\"\n",
    "\n",
    "        #Loop as long as necessary\n",
    "        while True:\n",
    "            # Create DataFrame - joined_table - Purpose: Will be used for further joins.\n",
    "            joined_table = pd.merge(r,df,left_on='man_id',right_on='id',how='inner')\n",
    "            # End Loop - if there are no rows anymore after the join. (Because the CEO does not have a Manager)\n",
    "            if len(joined_table)==0:\n",
    "                  break\n",
    "            # Create DataFrame - relationship_table - Purpose: Contains the employee role and the name of the Manager role. Will be used in the output.\n",
    "            relationship_table = joined_table.iloc[:,[0,3]]\n",
    "\n",
    "            # Filter columns - joined_Table --- Comment: contains only employee, id and man_id\n",
    "            joined_table = joined_table.iloc[:,[0,1,5]]\n",
    "\n",
    "            # Create Column - relationship_table \"Hierarchy\"\n",
    "            hierarchy=hierarchy+1\n",
    "            relationship_table[\"Hierarchy\"]=[hierarchy]\n",
    "\n",
    "            # Adjust DataFrame - relationship_table - Rename Headers \n",
    "            relationship_table=relationship_table.rename(columns={'employee_x':'Employee','employee_y':'Manager'})\n",
    "\n",
    "            # Adjust DataFrame - joined_Table - Purpose: The joined_Table will be used again as Input in the whilloop. Therefore it has to have the same Headers.\n",
    "            joined_table.columns = joined_table.columns.str.replace('_y', '').str.replace('_x', '')\n",
    "\n",
    "            # Adjust Table - result - Purpose: Collecting the results from the relationship_table after iteration\n",
    "            result = pd.concat([result,relationship_table],ignore_index=True)\n",
    "\n",
    "            # Adjust Table - r - Purpose: Adjusting the Input for the while-loop\n",
    "            r=joined_table\n",
    "\n",
    "print(result)"
   ]
  },
  {
   "cell_type": "markdown",
   "metadata": {},
   "source": []
  }
 ],
 "metadata": {
  "kernelspec": {
   "display_name": "Python 3",
   "language": "python",
   "name": "python3"
  },
  "language_info": {
   "codemirror_mode": {
    "name": "ipython",
    "version": 3
   },
   "file_extension": ".py",
   "mimetype": "text/x-python",
   "name": "python",
   "nbconvert_exporter": "python",
   "pygments_lexer": "ipython3",
   "version": "3.11.9"
  }
 },
 "nbformat": 4,
 "nbformat_minor": 2
}
